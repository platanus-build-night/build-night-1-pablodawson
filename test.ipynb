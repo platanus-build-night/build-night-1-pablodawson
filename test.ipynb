{
 "cells": [
  {
   "cell_type": "code",
   "execution_count": null,
   "id": "b3157246",
   "metadata": {
    "vscode": {
     "languageId": "plaintext"
    }
   },
   "outputs": [],
   "source": [
    "import requests\n",
    "from requests_oauthlib import OAuth1\n",
    "\n",
    "# Your credentials\n",
    "consumer_key = 'YOUR_CONSUMER_KEY'\n",
    "consumer_secret = 'YOUR_CONSUMER_SECRET'\n",
    "\n",
    "# OAuth1 setup\n",
    "auth = OAuth1(consumer_key, consumer_secret)\n",
    "\n",
    "# FatSecret endpoint example\n",
    "url = 'https://platform.fatsecret.com/rest/server.api'\n",
    "\n",
    "# Example request parameters\n",
    "params = {\n",
    "    'method': 'foods.search',\n",
    "    'search_expression': 'apple',\n",
    "    'format': 'json'\n",
    "}\n",
    "\n",
    "# Send the request\n",
    "response = requests.get(url, params=params, auth=auth)\n",
    "\n",
    "# Print the result\n",
    "print(response.status_code)\n",
    "print(response.json())"
   ]
  }
 ],
 "metadata": {
  "language_info": {
   "name": "python"
  }
 },
 "nbformat": 4,
 "nbformat_minor": 5
}
